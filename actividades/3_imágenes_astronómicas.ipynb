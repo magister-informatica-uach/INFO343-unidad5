{
 "cells": [
  {
   "cell_type": "code",
   "execution_count": null,
   "metadata": {},
   "outputs": [],
   "source": [
    "%matplotlib notebook\n",
    "import numpy as np\n",
    "import matplotlib.pyplot as plt\n",
    "from astropy.io import fits\n",
    "import gzip\n",
    "import pickle\n",
    "import torch"
   ]
  },
  {
   "cell_type": "markdown",
   "metadata": {},
   "source": [
    "# Imágenes astronómicas"
   ]
  },
  {
   "cell_type": "markdown",
   "metadata": {},
   "source": [
    "Las imágenes astrónomicas usualmente se guardan en formato FITS\n",
    "\n",
    "Podemos usar la librería [astropy](https://docs.astropy.org/en/stable/io/fits/) para abrir y manipular estos archivos\n",
    "\n",
    "El repositorio tiene una imagen de ejemplo en la carpeta `../data`\n",
    "\n",
    "Algunos atributos importantes son\n",
    "- `info()` para explorar el contenido del archivo\n",
    "- `header` para recuperar los parámetros que se usaron para producir la imagen y otra metadata\n",
    "- `data` para recuperar la imagen en si\n",
    "\n",
    "Como la imagen tiene \"valores extremos\" usamos visualizamos su logaritmo"
   ]
  },
  {
   "cell_type": "code",
   "execution_count": null,
   "metadata": {},
   "outputs": [],
   "source": [
    "fig, ax = plt.subplots(figsize=(8, 4))\n",
    "with gzip.open('../data/example.fits.gz') as f:\n",
    "    with fits.open(f) as hdul:\n",
    "        display(hdul.info())\n",
    "        #print(repr(hdul[0].header))\n",
    "        imap = ax.matshow(np.log(1+hdul[0].data).T, cmap=plt.cm.Greys_r)\n",
    "        fig.colorbar(imap, ax=ax)"
   ]
  },
  {
   "cell_type": "markdown",
   "metadata": {},
   "source": [
    "# Detección de transientes y variables con resta de imágenes"
   ]
  },
  {
   "cell_type": "markdown",
   "metadata": {},
   "source": [
    "<img src=\"../img/image-subtraction.png\" width=\"800\">"
   ]
  },
  {
   "cell_type": "markdown",
   "metadata": {},
   "source": [
    "<img src=\"../img/image-candidates.png\" width=\"800\">"
   ]
  },
  {
   "cell_type": "markdown",
   "metadata": {},
   "source": [
    "<img src=\"../img/image-pipeline.png\" width=\"800\">"
   ]
  },
  {
   "cell_type": "markdown",
   "metadata": {},
   "source": [
    "Usaremos un conjunto de candidatos a transiente obtenidos luego del paso de sustración de imágenes durante el proyecto High Cadence Transient Survey (HiTS) el año 2013\n",
    "\n",
    "Los candidatos están etiquetados como\n",
    "\n",
    "- 0 : Candidato real (dominado por artefactos)\n",
    "- 1 : Candidato sintético insertado en la pipeline\n",
    "\n",
    "Se [insertaron candidatos sintéticos](https://iopscience.iop.org/article/10.1086/519832/meta) para balancear el dataset y entrenar un clasificador, originalmente un [random forest](https://iopscience.iop.org/article/10.3847/0004-637X/832/2/155/meta) y luego una [red neuronal convolucional](https://iopscience.iop.org/article/10.3847/1538-4357/836/1/97/pdf)\n",
    "\n",
    "Cada candidato está representado por tres imágenes de 21x21 pixeles\n",
    "\n",
    "- 0: Imagen de diferencia\n",
    "- 1: Imagen de ciencia\n",
    "- 2: Imagen de referencia"
   ]
  },
  {
   "cell_type": "code",
   "execution_count": null,
   "metadata": {},
   "outputs": [],
   "source": [
    "from torch.utils.data import TensorDataset, DataLoader, Subset \n",
    "\n",
    "with gzip.open(\"../data/images2.pgz\", mode=\"r\") as f:\n",
    "    astro_image, astro_label = pickle.load(f)\n",
    "\n",
    "# Reescalamiento a [0, 1]\n",
    "astro_image_tensor = torch.from_numpy(astro_image.astype('float32')).reshape(-1, 3, 21, 21)\n",
    "im_min = astro_image_tensor.min(dim=-1).values.min(dim=-1).values.reshape(-1, 3, 1, 1)\n",
    "im_max = astro_image_tensor.max(dim=-1).values.max(dim=-1).values.reshape(-1, 3, 1, 1)\n",
    "astro_image_tensor = (astro_image_tensor - im_min)/(im_max-im_min)\n",
    "\n",
    "# Creación de DataSet y DataLoader\n",
    "astro_dataset = TensorDataset(astro_image_tensor, torch.from_numpy(astro_label))\n",
    "\n",
    "astro_loader = DataLoader(astro_dataset, \n",
    "                          batch_size=128, \n",
    "                          shuffle=True)"
   ]
  },
  {
   "cell_type": "code",
   "execution_count": null,
   "metadata": {},
   "outputs": [],
   "source": [
    "for x, y in astro_loader:\n",
    "    break\n",
    "    \n",
    "fig, ax = plt.subplots(1, 10, figsize=(9, 1.5), tight_layout=True)\n",
    "for axi, xi, yi in zip(ax, x, y):\n",
    "    axi.imshow(xi[0], cmap=plt.cm.Greys_r)\n",
    "    axi.axis('off')\n",
    "    axi.set_title(yi.item())\n"
   ]
  },
  {
   "cell_type": "markdown",
   "metadata": {},
   "source": [
    "El conjunto completo está en `/home/shared/astro/HiTS/HiTS_500k/images_train.csv` como archivo csv"
   ]
  },
  {
   "cell_type": "markdown",
   "metadata": {},
   "source": [
    "# Tarea final Unidad 5\n",
    "\n",
    "- Entrenar un GAN con **las imágenes de diferencia** de HiTS\n",
    "- Reescale las imágenes al rango $[0, 1]$\n",
    "- Utilice como base la arquitectura [DCGAN](https://pytorch.org/tutorials/beginner/dcgan_faces_tutorial.html)\n",
    "- Son libres de experimentar, se premiará la creatividad\n",
    "- Se trabajará en grupos de a dos\n",
    "- Recomiendo usar guanaco para hacer los entrenamientos en GPU. Puede usar el ambiente de conda `astro`"
   ]
  },
  {
   "cell_type": "code",
   "execution_count": null,
   "metadata": {},
   "outputs": [],
   "source": []
  }
 ],
 "metadata": {
  "kernelspec": {
   "display_name": "Torch",
   "language": "python",
   "name": "torch"
  },
  "language_info": {
   "codemirror_mode": {
    "name": "ipython",
    "version": 3
   },
   "file_extension": ".py",
   "mimetype": "text/x-python",
   "name": "python",
   "nbconvert_exporter": "python",
   "pygments_lexer": "ipython3",
   "version": "3.8.5"
  }
 },
 "nbformat": 4,
 "nbformat_minor": 2
}
